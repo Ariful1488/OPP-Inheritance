{
 "cells": [
  {
   "cell_type": "code",
   "execution_count": 1,
   "metadata": {},
   "outputs": [
    {
     "name": "stdout",
     "output_type": "stream",
     "text": [
      "Outside information\n"
     ]
    }
   ],
   "source": [
    "#Nothing is printing from inside function\n",
    "def func_name():\n",
    "    print('inside information')\n",
    "    print('inside information')\n",
    "print('Outside information')"
   ]
  },
  {
   "cell_type": "code",
   "execution_count": 2,
   "metadata": {},
   "outputs": [
    {
     "name": "stdout",
     "output_type": "stream",
     "text": [
      "inside information1\n",
      "inside information2\n",
      "Outside information\n"
     ]
    }
   ],
   "source": [
    "#How to print inside information by calling the function\n",
    "#Until getting the calling function,it will not print the function information\n",
    "def func_name():\n",
    "    print('inside information1')\n",
    "    print('inside information2')\n",
    "func_name()\n",
    "print('Outside information')"
   ]
  },
  {
   "cell_type": "code",
   "execution_count": 3,
   "metadata": {},
   "outputs": [
    {
     "name": "stdout",
     "output_type": "stream",
     "text": [
      "Outside information\n",
      "inside information1\n",
      "inside information2\n"
     ]
    }
   ],
   "source": [
    "#position changing of function inside information\n",
    "def func_name():\n",
    "    print('inside information1')\n",
    "    print('inside information2')\n",
    "print('Outside information')\n",
    "func_name()"
   ]
  },
  {
   "cell_type": "code",
   "execution_count": 4,
   "metadata": {},
   "outputs": [
    {
     "name": "stdout",
     "output_type": "stream",
     "text": [
      "10\n",
      "DOne!\n"
     ]
    }
   ],
   "source": [
    "#Now one aurgument using function\n",
    "def func(first_argument):\n",
    "    print(first_argument)\n",
    "    print('DOne!')\n",
    "first_argument= func(10)    \n"
   ]
  },
  {
   "cell_type": "code",
   "execution_count": 5,
   "metadata": {},
   "outputs": [
    {
     "name": "stdout",
     "output_type": "stream",
     "text": [
      "50\n"
     ]
    }
   ],
   "source": [
    "#using return function\n",
    "def calc(x):\n",
    "    return x*5\n",
    "result=calc(10)\n",
    "print(result)"
   ]
  },
  {
   "cell_type": "code",
   "execution_count": 6,
   "metadata": {},
   "outputs": [
    {
     "name": "stdout",
     "output_type": "stream",
     "text": [
      "22\n"
     ]
    }
   ],
   "source": [
    "#def summation\n",
    "def suma(x,y):\n",
    "    return x+y\n",
    "result= suma(10,12)\n",
    "print(result)"
   ]
  },
  {
   "cell_type": "code",
   "execution_count": 7,
   "metadata": {},
   "outputs": [
    {
     "name": "stdout",
     "output_type": "stream",
     "text": [
      "Please enter a integer number\n",
      "4\n",
      "Please enter an integer number\n",
      "5\n",
      "The multification result is= 20\n"
     ]
    }
   ],
   "source": [
    "#by using input function\n",
    "x=int(input('Please enter a integer number\\n'))\n",
    "y=int(input('Please enter an integer number\\n'))\n",
    "def mult(x,y):\n",
    "    return x*y\n",
    "result= mult(x,y)\n",
    "print('The multification result is=',result)\n"
   ]
  },
  {
   "cell_type": "code",
   "execution_count": 8,
   "metadata": {},
   "outputs": [
    {
     "name": "stdout",
     "output_type": "stream",
     "text": [
      "Please enter a integer number\n",
      "5\n",
      "Please enter an integer number\n",
      "7\n",
      "The multification result is = 35\n"
     ]
    }
   ],
   "source": [
    "#Another approach for printing the value without declaring extra variable\n",
    "x=int(input('Please enter a integer number\\n'))\n",
    "y=int(input('Please enter an integer number\\n'))\n",
    "def mult(x,y):\n",
    "    return x*y\n",
    "print('The multification result is =',mult(x,y))"
   ]
  },
  {
   "cell_type": "code",
   "execution_count": 9,
   "metadata": {},
   "outputs": [
    {
     "name": "stdout",
     "output_type": "stream",
     "text": [
      "Please enter a integer number\n",
      "4\n",
      "Please enter an integer number\n",
      "2\n",
      "The multification result is = 2.0\n"
     ]
    }
   ],
   "source": [
    "#Dividation\n",
    "x=float(input('Please enter a integer number\\n'))\n",
    "y=float(input('Please enter an integer number\\n'))\n",
    "def mult(x,y):\n",
    "    return x/y\n",
    "print('The multification result is =',mult(x,y))"
   ]
  },
  {
   "cell_type": "code",
   "execution_count": 10,
   "metadata": {},
   "outputs": [
    {
     "name": "stdout",
     "output_type": "stream",
     "text": [
      "3.0\n",
      "2.0\n"
     ]
    }
   ],
   "source": [
    "# Using the same cod efor multiple data\n",
    "def div(x,y):\n",
    "    return x/y\n",
    "a=div(6,2)\n",
    "b=div(50,25)\n",
    "print(a)\n",
    "print(b)"
   ]
  },
  {
   "cell_type": "code",
   "execution_count": 11,
   "metadata": {},
   "outputs": [
    {
     "name": "stdout",
     "output_type": "stream",
     "text": [
      "24\n",
      "3628800\n"
     ]
    }
   ],
   "source": [
    "#factorial code under define function\n",
    "#n=int(input('Please enter the interger number'))\n",
    "def factorial(n):\n",
    "    fact=1\n",
    "    for i in range(1,n+1):\n",
    "        fact=fact*i\n",
    "    return fact\n",
    "print(factorial(4))\n",
    "print(factorial(10))"
   ]
  },
  {
   "cell_type": "markdown",
   "metadata": {},
   "source": [
    "# Objected Orientented Programming"
   ]
  },
  {
   "cell_type": "code",
   "execution_count": 12,
   "metadata": {},
   "outputs": [
    {
     "name": "stdout",
     "output_type": "stream",
     "text": [
      "<__main__.student object at 0x0000029D30C36A00>\n"
     ]
    }
   ],
   "source": [
    "#without constructor\n",
    "#Blue print/Template\n",
    "class student:\n",
    "    pass #class k empty rakhar jonno pass statement use kora hoyece\n",
    "#creating object\n",
    "#variable = class_name()\n",
    "student_1 = student()\n",
    "print(student_1)\n"
   ]
  },
  {
   "cell_type": "code",
   "execution_count": 13,
   "metadata": {},
   "outputs": [
    {
     "name": "stdout",
     "output_type": "stream",
     "text": [
      "A student object created\n"
     ]
    }
   ],
   "source": [
    "#Now with  constructor\n",
    "class student:\n",
    "    def __init__(self):\n",
    "         print('A student object created')\n",
    "s1= student()\n",
    "#that means that s1 is picked by self and created a location addresed"
   ]
  },
  {
   "cell_type": "code",
   "execution_count": 14,
   "metadata": {},
   "outputs": [
    {
     "name": "stdout",
     "output_type": "stream",
     "text": [
      "<__main__.student object at 0x0000029D30C4BA00>\n",
      "A student object created\n",
      "<__main__.student object at 0x0000029D30C4BA00>\n"
     ]
    }
   ],
   "source": [
    "#we can check it by printing self and s1\n",
    "class student:\n",
    "    def __init__(self):\n",
    "        print(self)\n",
    "        print('A student object created')\n",
    "s1= student()\n",
    "print(s1)"
   ]
  },
  {
   "cell_type": "code",
   "execution_count": 15,
   "metadata": {},
   "outputs": [
    {
     "name": "stdout",
     "output_type": "stream",
     "text": [
      "<__main__.student object at 0x0000029D30C4B9A0>\n",
      "A student object created\n",
      "<__main__.student object at 0x0000029D30C4BC70>\n",
      "A student object created\n",
      "s1--. <__main__.student object at 0x0000029D30C4B9A0>\n"
     ]
    }
   ],
   "source": [
    "# akta object er jonno construtor ta ak bare call hobe\n",
    "# if we craete another object, the location address will be changed\n",
    "class student:\n",
    "    def __init__(self):\n",
    "        print(self)\n",
    "        print('A student object created')\n",
    "s1= student()\n",
    "s2= student()\n",
    "print('s1--.',s1)"
   ]
  },
  {
   "cell_type": "code",
   "execution_count": 16,
   "metadata": {},
   "outputs": [
    {
     "name": "stdout",
     "output_type": "stream",
     "text": [
      "Student name is  Arif , Roll number  100834 , Home district is Jashore\n",
      "Student name is  Raju , Roll number  100833 , Home district is Khulna\n"
     ]
    }
   ],
   "source": [
    "#thus,by constructor we can create the object location but we can decorate the object by instance methods\n",
    "class student:\n",
    "    #creating constructor\n",
    "    def __init__(self,name,roll,address):\n",
    "        self.name= name #instance/object variable\n",
    "        self.roll= roll #instance/object variable\n",
    "        self.address= address #instance/object variable\n",
    "    #Now we need instance methods for printing object\n",
    "    def details(self):\n",
    "        print('Student name is ',self.name,', Roll number ', self.roll,', Home district is', self.address)\n",
    "    \n",
    "\n",
    "#Now creating object\n",
    "student_1 = student('Arif',100834,'Jashore')\n",
    "student_2 = student('Raju',100833,'Khulna')\n",
    "#now we can check student details under a particular student object/instance/location\n",
    "student_1.details()\n",
    "student_2.details()\n"
   ]
  },
  {
   "cell_type": "code",
   "execution_count": 17,
   "metadata": {},
   "outputs": [
    {
     "name": "stdout",
     "output_type": "stream",
     "text": [
      "Student name is  Arif , Roll number  108 , Home district is Jashore\n",
      "Student name is  Raju , Roll number  100833 , Home district is Khulna\n"
     ]
    }
   ],
   "source": [
    "#Suppose from Class eight to class nine, my roll number has changed.How could I change my roll number\n",
    "#should I write the whole code or a simple change?\n",
    "#thus,by constructor we can create the object location but we can decorate the object by instance methods\n",
    "class student:\n",
    "    #creating constructor\n",
    "    def __init__(self,name,roll,address):\n",
    "        self.name= name #instance/object variable\n",
    "        self.roll= roll #instance/object variable\n",
    "        self.address= address #instance/object variable\n",
    "    #Now we need instance methods for printing object\n",
    "    def details(self):\n",
    "        print('Student name is ',self.name,', Roll number ', self.roll,', Home district is', self.address)\n",
    "    \n",
    "\n",
    "#Now creating object\n",
    "student_1 = student('Arif',100834,'Jashore')\n",
    "# change will be here\n",
    "student_1.roll = 108\n",
    "student_2 = student('Raju',100833,'Khulna')\n",
    "#now we can check student details under a particular student object/instance/location\n",
    "student_1.details()\n",
    "student_2.details()\n"
   ]
  },
  {
   "cell_type": "code",
   "execution_count": 18,
   "metadata": {},
   "outputs": [
    {
     "name": "stdout",
     "output_type": "stream",
     "text": [
      "4 House windows 2 House doors\n",
      "4 House windows 2 House doors\n"
     ]
    }
   ],
   "source": [
    "# how to create default value\n",
    "# example for a house windows and doors\n",
    "class house:\n",
    "    def __init__(self):\n",
    "        self.windows=4\n",
    "        self.doors=2\n",
    "    def view(self):\n",
    "        print(self.windows,'House windows',self.doors,'House doors')\n",
    "h1= house()\n",
    "h2=house()\n",
    "h1.view()\n",
    "h2.view()"
   ]
  },
  {
   "cell_type": "code",
   "execution_count": 19,
   "metadata": {},
   "outputs": [
    {
     "name": "stdout",
     "output_type": "stream",
     "text": [
      "6 house windows 2 house doors\n",
      "4 house windows 2 house doors\n"
     ]
    }
   ],
   "source": [
    "#Now if we want first house have to have 6 windows, then we can modify following this\n",
    "class house:\n",
    "    def __init__(self):\n",
    "        self.windows=4\n",
    "        self.doors=2\n",
    "    def view(self):\n",
    "        print(self.windows,'house windows',self.doors,'house doors')\n",
    "h1= house()\n",
    "h1.windows=6\n",
    "h2=house()\n",
    "h1.view()\n",
    "h2.view()"
   ]
  },
  {
   "cell_type": "code",
   "execution_count": 20,
   "metadata": {},
   "outputs": [
    {
     "name": "stdout",
     "output_type": "stream",
     "text": [
      "The car brand is  BMW which was lunched in 2016\n",
      "It has  4 wheels and 2 doors and 4 windows\n"
     ]
    }
   ],
   "source": [
    "# creatuing a car blue print\n",
    "class car:\n",
    "    def __init__(self,name,model):\n",
    "        self.name=name\n",
    "        self.model=model\n",
    "        self.wheel=4\n",
    "        self.doors=4\n",
    "        self.windows=4\n",
    "    def view(self):\n",
    "        print('The car brand is ',self.name, 'which was lunched in', self.model)\n",
    "        print('It has ',self.wheel,'wheels and',self.doors,'doors and', self.windows,'windows')\n",
    "obj=car('BMW',2016)\n",
    "obj.doors=2\n",
    "obj.view()"
   ]
  },
  {
   "cell_type": "code",
   "execution_count": 21,
   "metadata": {},
   "outputs": [
    {
     "name": "stdout",
     "output_type": "stream",
     "text": [
      "The book name is Earth Sicence which has been written by Jon stock in the year of 1767\n",
      "The book name is Machine Learning by python which has been written by Robert Den in the year of 1971\n"
     ]
    }
   ],
   "source": [
    "#Exercise for book info by class\n",
    "class book:\n",
    "    def __init__(self,name,Author_name,publishing_year):\n",
    "        self.name=name\n",
    "        self.Author_name=Author_name\n",
    "        self.publishing_year=publishing_year\n",
    "    def book_details(self):\n",
    "        print('The book name is',self.name,'which has been written by',self.Author_name,'in the year of',self.publishing_year)\n",
    "book_1= book('Earth Sicence','Jon stock',1767)\n",
    "book_1.book_details()\n",
    "book_2=book('Machine Learning by python','Robert Den',1971)\n",
    "book_2.book_details()"
   ]
  },
  {
   "cell_type": "code",
   "execution_count": 22,
   "metadata": {},
   "outputs": [
    {
     "name": "stdout",
     "output_type": "stream",
     "text": [
      "The book name: opekka \n",
      "The author name: Humayun \n",
      "Publishing year: 2010 \n",
      "The price of book: 0 Taka\n",
      "***Present time price***\n",
      "The book name: opekka \n",
      "The author name: Humayun \n",
      "Publishing year: 2020 \n",
      "The price of book: 250 Taka\n"
     ]
    }
   ],
   "source": [
    "class book:\n",
    "    def __init__(self,name,author,year):\n",
    "        self.name=name\n",
    "        self.author=author\n",
    "        self.year=year\n",
    "        self.price=0\n",
    "    #Since the price may change time to time, so we can set the price\n",
    "    def set_year(self,year):\n",
    "        self.year=year\n",
    "    def get_year(year):\n",
    "        return self.year\n",
    "    def set_price(self,price):\n",
    "        self.price=price\n",
    "    def get_price(self):\n",
    "        return self.price\n",
    "    def book_info(self):\n",
    "        print('The book name:',self.name,\n",
    "             '\\nThe author name:',self.author,\n",
    "             '\\nPublishing year:',self.year,\n",
    "             '\\nThe price of book:',self.price, 'Taka')\n",
    "b1=book('opekka','Humayun',2010)\n",
    "b1.book_info()\n",
    "#the update will be done by like this\n",
    "print('***Present time price***')\n",
    "b1.set_year(2020)\n",
    "b1.set_price(250)\n",
    "b1.book_info()"
   ]
  },
  {
   "cell_type": "code",
   "execution_count": 23,
   "metadata": {},
   "outputs": [
    {
     "name": "stdout",
     "output_type": "stream",
     "text": [
      "Red color cat is jumping\n",
      "Brown color cat is setting\n",
      "They are not doing the same thing.\n"
     ]
    }
   ],
   "source": [
    "# now we can pass the reference by following object\n",
    "class cat:\n",
    "    def __init__(self,color,action):\n",
    "        self.color=color\n",
    "        self.action=action\n",
    "        \n",
    "    def view(self):\n",
    "        print(self.color,'color cat is',self.action)\n",
    "    #here, we can pass one object inform mation to another object for any things,let see for compare\n",
    "    def comparing(self,ct):\n",
    "        if self.action == ct.action:\n",
    "            print('Both of them are',self.action)\n",
    "        else:\n",
    "            print('They are not doing the same thing.')\n",
    "c1=cat('Red','jumping')\n",
    "c2=cat('Brown','setting')\n",
    "\n",
    "c1.view()\n",
    "c2.view()\n",
    "#here we are passing c2 object refernce to comparing function\n",
    "c1.comparing(c2)"
   ]
  },
  {
   "cell_type": "code",
   "execution_count": 24,
   "metadata": {},
   "outputs": [
    {
     "data": {
      "text/plain": [
       "40"
      ]
     },
     "execution_count": 24,
     "metadata": {},
     "output_type": "execute_result"
    }
   ],
   "source": [
    "#if we want to get string value under class then we have to write it just under the class name\n",
    "class a:\n",
    "    'The code is running...'\n",
    "    age=40\n",
    "obj1=a()\n",
    "obj1.age\n"
   ]
  },
  {
   "cell_type": "code",
   "execution_count": 25,
   "metadata": {},
   "outputs": [
    {
     "data": {
      "text/plain": [
       "'The code is running...'"
      ]
     },
     "execution_count": 25,
     "metadata": {},
     "output_type": "execute_result"
    }
   ],
   "source": [
    "#for accessing string value \n",
    "obj1.__doc__"
   ]
  },
  {
   "cell_type": "markdown",
   "metadata": {},
   "source": [
    "# constructor"
   ]
  },
  {
   "cell_type": "code",
   "execution_count": 26,
   "metadata": {},
   "outputs": [
    {
     "data": {
      "text/plain": [
       "'The main purpose of constructor is to create and initialize the object\\nconstructor is used under a class: def __init__(self): it is called constructor'"
      ]
     },
     "execution_count": 26,
     "metadata": {},
     "output_type": "execute_result"
    }
   ],
   "source": [
    "# What is the purpose of constructor?\n",
    "'''The main purpose of constructor is to create and initialize the object\n",
    "constructor is used under a class: def __init__(self): it is called constructor'''"
   ]
  },
  {
   "cell_type": "code",
   "execution_count": 27,
   "metadata": {},
   "outputs": [
    {
     "name": "stdout",
     "output_type": "stream",
     "text": [
      "His name is Arif ,and roll is 100834\n"
     ]
    }
   ],
   "source": [
    "#By default\n",
    "class A:\n",
    "    \n",
    "    def __init__(self):\n",
    "        self.name = 'Arif'\n",
    "        self.roll = 100834\n",
    "        print('His name is',self.name,',and roll is',self.roll)\n",
    "obj=A()"
   ]
  },
  {
   "cell_type": "code",
   "execution_count": 28,
   "metadata": {},
   "outputs": [
    {
     "ename": "NameError",
     "evalue": "name 'age' is not defined",
     "output_type": "error",
     "traceback": [
      "\u001b[1;31m---------------------------------------------------------------------------\u001b[0m",
      "\u001b[1;31mNameError\u001b[0m                                 Traceback (most recent call last)",
      "\u001b[1;32m<ipython-input-28-3cd9706b528d>\u001b[0m in \u001b[0;36m<module>\u001b[1;34m\u001b[0m\n\u001b[0;32m      8\u001b[0m         \u001b[0mself\u001b[0m\u001b[1;33m.\u001b[0m\u001b[0mroll\u001b[0m \u001b[1;33m=\u001b[0m \u001b[1;36m100834\u001b[0m\u001b[1;33m\u001b[0m\u001b[1;33m\u001b[0m\u001b[0m\n\u001b[0;32m      9\u001b[0m         \u001b[0mprint\u001b[0m\u001b[1;33m(\u001b[0m\u001b[1;34m'His name is'\u001b[0m\u001b[1;33m,\u001b[0m\u001b[0mself\u001b[0m\u001b[1;33m.\u001b[0m\u001b[0mname\u001b[0m\u001b[1;33m,\u001b[0m\u001b[1;34m',and roll is'\u001b[0m\u001b[1;33m,\u001b[0m\u001b[0mself\u001b[0m\u001b[1;33m.\u001b[0m\u001b[0mroll\u001b[0m\u001b[1;33m,\u001b[0m\u001b[1;34m',his age is'\u001b[0m\u001b[1;33m,\u001b[0m\u001b[0mage\u001b[0m\u001b[1;33m,\u001b[0m\u001b[1;34m'years'\u001b[0m\u001b[1;33m)\u001b[0m\u001b[1;33m\u001b[0m\u001b[1;33m\u001b[0m\u001b[0m\n\u001b[1;32m---> 10\u001b[1;33m \u001b[0mobj\u001b[0m\u001b[1;33m=\u001b[0m\u001b[0mA\u001b[0m\u001b[1;33m(\u001b[0m\u001b[1;33m)\u001b[0m\u001b[1;33m\u001b[0m\u001b[1;33m\u001b[0m\u001b[0m\n\u001b[0m",
      "\u001b[1;32m<ipython-input-28-3cd9706b528d>\u001b[0m in \u001b[0;36m__init__\u001b[1;34m(self)\u001b[0m\n\u001b[0;32m      7\u001b[0m         \u001b[0mself\u001b[0m\u001b[1;33m.\u001b[0m\u001b[0mname\u001b[0m \u001b[1;33m=\u001b[0m \u001b[1;34m'Arif'\u001b[0m\u001b[1;33m\u001b[0m\u001b[1;33m\u001b[0m\u001b[0m\n\u001b[0;32m      8\u001b[0m         \u001b[0mself\u001b[0m\u001b[1;33m.\u001b[0m\u001b[0mroll\u001b[0m \u001b[1;33m=\u001b[0m \u001b[1;36m100834\u001b[0m\u001b[1;33m\u001b[0m\u001b[1;33m\u001b[0m\u001b[0m\n\u001b[1;32m----> 9\u001b[1;33m         \u001b[0mprint\u001b[0m\u001b[1;33m(\u001b[0m\u001b[1;34m'His name is'\u001b[0m\u001b[1;33m,\u001b[0m\u001b[0mself\u001b[0m\u001b[1;33m.\u001b[0m\u001b[0mname\u001b[0m\u001b[1;33m,\u001b[0m\u001b[1;34m',and roll is'\u001b[0m\u001b[1;33m,\u001b[0m\u001b[0mself\u001b[0m\u001b[1;33m.\u001b[0m\u001b[0mroll\u001b[0m\u001b[1;33m,\u001b[0m\u001b[1;34m',his age is'\u001b[0m\u001b[1;33m,\u001b[0m\u001b[0mage\u001b[0m\u001b[1;33m,\u001b[0m\u001b[1;34m'years'\u001b[0m\u001b[1;33m)\u001b[0m\u001b[1;33m\u001b[0m\u001b[1;33m\u001b[0m\u001b[0m\n\u001b[0m\u001b[0;32m     10\u001b[0m \u001b[0mobj\u001b[0m\u001b[1;33m=\u001b[0m\u001b[0mA\u001b[0m\u001b[1;33m(\u001b[0m\u001b[1;33m)\u001b[0m\u001b[1;33m\u001b[0m\u001b[1;33m\u001b[0m\u001b[0m\n",
      "\u001b[1;31mNameError\u001b[0m: name 'age' is not defined"
     ]
    }
   ],
   "source": [
    "#vallu accesing into inside of constructor\n",
    "#This code is not [perfect] for accesising outside value inside into constructor\n",
    "class A:\n",
    "    age=30\n",
    "    \n",
    "    def __init__(self):\n",
    "        self.name = 'Arif'\n",
    "        self.roll = 100834\n",
    "        print('His name is',self.name,',and roll is',self.roll,',his age is',age,'years')\n",
    "obj=A()"
   ]
  },
  {
   "cell_type": "code",
   "execution_count": null,
   "metadata": {},
   "outputs": [],
   "source": [
    "#FOr accesing ouside value into inside of constructor, we have to use self constructor \n",
    "class A:\n",
    "    age=30\n",
    "    \n",
    "    def __init__(self):\n",
    "        self.name = 'Arif'\n",
    "        self.roll = 100834\n",
    "        print('His name is',self.name,',and roll is',self.roll,',his age is',self.age,'years') #here we have use self.age\n",
    "obj=A()"
   ]
  },
  {
   "cell_type": "code",
   "execution_count": null,
   "metadata": {},
   "outputs": [],
   "source": [
    "# if we create multuiple constructor under a class, python will take the last constructor information\n",
    "class B:\n",
    "    def __init__(self):\n",
    "        self.name='Arif'\n",
    "        print(self.name)\n",
    "    def __init__(self):\n",
    "        self.name = 'Raju'\n",
    "        print(self.name)\n",
    "obj2=B()\n",
    "        "
   ]
  },
  {
   "cell_type": "markdown",
   "metadata": {},
   "source": [
    "# Python Inheritance"
   ]
  },
  {
   "cell_type": "code",
   "execution_count": null,
   "metadata": {},
   "outputs": [],
   "source": [
    "#what is inheritance?\n",
    "'''\n",
    "answer: If a class access another class information that is called inheritance\n",
    " '''\n",
    "class father:\n",
    "    def land(self):\n",
    "        print('Father has 20 accors land')\n",
    "        \n",
    "class son(father):\n",
    "    def wealth(self):\n",
    "        print('Son has 20 lak Taka')\n",
    "son_obj= son()\n",
    "son_obj.wealth()\n",
    "#Is it accessable of father calss land function by son object\n",
    "son_obj.land()\n"
   ]
  },
  {
   "cell_type": "markdown",
   "metadata": {},
   "source": [
    "# '''Types of Inheritance\n",
    "1. single inheritance\n",
    "2.Multiple inheritance\n",
    "3.Multi-level inheritence\n",
    "4.hierarchical\n",
    "5.Hybrid inheritance\n",
    "       '''"
   ]
  },
  {
   "cell_type": "code",
   "execution_count": 33,
   "metadata": {},
   "outputs": [
    {
     "name": "stdout",
     "output_type": "stream",
     "text": [
      "enter a float number40\n",
      "enter a float number4\n",
      "The adding value of those number is: 44\n",
      "The subtraction value of those number is: 36\n",
      "The Muultiplication value of those number is: 160\n",
      "The dividation value of those number is: 10.0\n",
      "The Reminder value of those number is: 0\n"
     ]
    }
   ],
   "source": [
    "#Single inheritance\n",
    "'''\n",
    "  one parent class and one child class, where only child class will inherit parent class          \n",
    "            '''\n",
    "class A:\n",
    "    num1=int(input('enter a float number'))\n",
    "    num2=int(input('enter a float number'))\n",
    "    def add(self):\n",
    "        print('The adding value of those number is:',self.num1+self.num2)\n",
    "    def sub(self):\n",
    "        print('The subtraction value of those number is:',self.num1-self.num2)\n",
    "class B(A):\n",
    "    def mult(self):\n",
    "        print('The Muultiplication value of those number is:',self.num1*self.num2)\n",
    "    def div(self):\n",
    "        print('The dividation value of those number is:',self.num1/self.num2)\n",
    "    def Remainder(self):\n",
    "        print('The Reminder value of those number is:',self.num1%self.num2)\n",
    "obj=A()\n",
    "obj1=B()\n",
    "obj1.add()\n",
    "obj1.sub()\n",
    "obj1.mult()\n",
    "obj1.div()\n",
    "obj1.Remainder()\n"
   ]
  },
  {
   "cell_type": "code",
   "execution_count": 35,
   "metadata": {},
   "outputs": [
    {
     "name": "stdout",
     "output_type": "stream",
     "text": [
      "The backend task have been performed by  Python\n",
      "The frontend tasks have been performed by  HTML & CSS\n",
      "The website successfully has been run.\n"
     ]
    }
   ],
   "source": [
    "#Multiple inheritance\n",
    "'''\n",
    "Multiple parents class and single child Class\n",
    "        '''\n",
    "class Sumon:\n",
    "    back='Python'\n",
    "    def back_end(self):\n",
    "        print('The backend task have been performed by ', self.back)\n",
    "class Kabir:\n",
    "    front= 'HTML & CSS'\n",
    "    def frontend(self):\n",
    "        print('The frontend tasks have been performed by ', self.front)\n",
    "class Teamlead(Sumon,Kabir):\n",
    "    def show(self):\n",
    "        #Banckend\n",
    "        #Front End\n",
    "        print('The website successfully has been run.')\n",
    "web=Teamlead()\n",
    "web.back_end()\n",
    "web.frontend()\n",
    "web.show()"
   ]
  },
  {
   "cell_type": "code",
   "execution_count": 42,
   "metadata": {},
   "outputs": [
    {
     "name": "stdout",
     "output_type": "stream",
     "text": [
      "Nurul Islam Gazi\n",
      "Tariqul Gazi\n",
      "Tazbir Gazi\n"
     ]
    }
   ],
   "source": [
    "#Multi-level inheritence\n",
    "'''One parents class and multiple child class,but it will go by level by level\n",
    "        '''\n",
    "class parent:\n",
    "    surname='Gazi'\n",
    "class child1(parent):\n",
    "    def grandpa(self):\n",
    "        print('Nurul Islam',self.surname)\n",
    "class child2(child1):\n",
    "    def father(self):\n",
    "        print('Tariqul',self.surname)\n",
    "    \n",
    "class child3(child2):\n",
    "    def me(self):\n",
    "        print('Tazbir',self.surname)\n",
    "gp=child1()\n",
    "gp.grandpa()\n",
    "gch=child3()\n",
    "gch.father()\n",
    "gch.me()\n"
   ]
  },
  {
   "cell_type": "code",
   "execution_count": 43,
   "metadata": {},
   "outputs": [
    {
     "name": "stdout",
     "output_type": "stream",
     "text": [
      "The police station is Manirampur\n",
      "The district name is  Jashore\n",
      "\n",
      "\n",
      "The police station is Keshabpur\n",
      "The district name is  Jashore\n"
     ]
    }
   ],
   "source": [
    "#hierarchical\n",
    "'''\n",
    "one parent class and multiple child class, but each child class inherite parent class separateley\n",
    "        '''\n",
    "class Main_city:\n",
    "    district_name='Jashore'\n",
    "    def district(self):\n",
    "        print('The district name is ', self.district_name)\n",
    "class Upozilla1(Main_city):\n",
    "    def Police_station(self):\n",
    "        print('The police station is Manirampur')\n",
    "class Upozilla2(Main_city):\n",
    "    def Police_station2(self):\n",
    "        print('The police station is Keshabpur')\n",
    "UP1=Upozilla1()\n",
    "UP1.Police_station()\n",
    "UP1.district()\n",
    "print('\\n')\n",
    "UP2=Upozilla2()\n",
    "UP2.Police_station2()\n",
    "UP1.district()"
   ]
  },
  {
   "cell_type": "code",
   "execution_count": 44,
   "metadata": {},
   "outputs": [
    {
     "name": "stdout",
     "output_type": "stream",
     "text": [
      "The police station is  Manirampur\n",
      "The district name is  Jashore\n",
      "\n",
      "\n",
      "The police station is  Keshabpur\n",
      "The district name is  Jashore\n"
     ]
    }
   ],
   "source": [
    "#hierarchical another way by litte change\n",
    "'''\n",
    "one parent class and multiple child class, but each child class inherite parent class separateley\n",
    "        '''\n",
    "class Main_city:\n",
    "    district_name='Jashore'\n",
    "    def district(self):\n",
    "        print('The district name is ', self.district_name)\n",
    "class Upozilla1(Main_city):\n",
    "    upo1='Manirampur'\n",
    "    def Police_station(self):\n",
    "        print('The police station is ',self.upo1)\n",
    "class Upozilla2(Main_city):\n",
    "    upo2='Keshabpur'\n",
    "    def Police_station2(self):\n",
    "        print('The police station is ',self.upo2)\n",
    "UP1=Upozilla1()\n",
    "UP1.Police_station()\n",
    "UP1.district()\n",
    "print('\\n')\n",
    "UP2=Upozilla2()\n",
    "UP2.Police_station2()\n",
    "UP1.district()"
   ]
  },
  {
   "cell_type": "code",
   "execution_count": null,
   "metadata": {},
   "outputs": [],
   "source": [
    "#Hybrid inheritance"
   ]
  }
 ],
 "metadata": {
  "kernelspec": {
   "display_name": "Python 3",
   "language": "python",
   "name": "python3"
  },
  "language_info": {
   "codemirror_mode": {
    "name": "ipython",
    "version": 3
   },
   "file_extension": ".py",
   "mimetype": "text/x-python",
   "name": "python",
   "nbconvert_exporter": "python",
   "pygments_lexer": "ipython3",
   "version": "3.8.5"
  }
 },
 "nbformat": 4,
 "nbformat_minor": 4
}
